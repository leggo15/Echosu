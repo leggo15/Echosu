{
 "cells": [
  {
   "cell_type": "code",
   "execution_count": 2,
   "metadata": {},
   "outputs": [
    {
     "name": "stdout",
     "output_type": "stream",
     "text": [
      "403\n",
      "{'detail': 'You do not have permission to perform this action.'}\n"
     ]
    }
   ],
   "source": [
    "import requests\n",
    "\n",
    "api_key = 'M8O12iBj.Lvw4HhHjxqnUcO4guLPxIB4ocggCtW8B'  \n",
    "\n",
    "headers = {\n",
    "    'Authorization': f'{api_key}',\n",
    "}\n",
    "\n",
    "response = requests.get(\n",
    "    'http://127.0.0.1:8000/api/beatmaps/tags/?batch_size=30&offset=0',\n",
    "    headers=headers\n",
    ")\n",
    "\n",
    "print(response.status_code)\n",
    "print(response.json())\n"
   ]
  }
 ],
 "metadata": {
  "kernelspec": {
   "display_name": "osuvenv",
   "language": "python",
   "name": "python3"
  },
  "language_info": {
   "codemirror_mode": {
    "name": "ipython",
    "version": 3
   },
   "file_extension": ".py",
   "mimetype": "text/x-python",
   "name": "python",
   "nbconvert_exporter": "python",
   "pygments_lexer": "ipython3",
   "version": "3.12.2"
  }
 },
 "nbformat": 4,
 "nbformat_minor": 2
}
