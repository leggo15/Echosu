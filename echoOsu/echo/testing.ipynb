{
 "cells": [
  {
   "cell_type": "code",
   "execution_count": 1,
   "metadata": {},
   "outputs": [
    {
     "name": "stdout",
     "output_type": "stream",
     "text": [
      "_api: <ossapi.ossapiv2.Ossapi object at 0x00000186A88A9BD0>\n",
      "difficulty_rating: 6.84\n",
      "id: 657917\n",
      "mode: GameMode.OSU\n",
      "status: RankStatus.RANKED\n",
      "total_length: 249\n",
      "version: ktgster's Extreme\n",
      "user_id: 53378\n",
      "beatmapset_id: 292301\n",
      "_beatmapset: Beatmapset(artist='xi', artist_unicode='xi', covers=Covers(cover='https://assets.ppy.sh/beatmaps/292301/covers/cover.jpg?1650630372', cover_2x='https://assets.ppy.sh/beatmaps/292301/covers/cover@2x.jpg?1650630372', card='https://assets.ppy.sh/beatmaps/292301/covers/card.jpg?1650630372', card_2x='https://assets.ppy.sh/beatmaps/292301/covers/card@2x.jpg?1650630372', list='https://assets.ppy.sh/beatmaps/292301/covers/list.jpg?1650630372', list_2x='https://assets.ppy.sh/beatmaps/292301/covers/list@2x.jpg?1650630372', slimcover='https://assets.ppy.sh/beatmaps/292301/covers/slimcover.jpg?1650630372', slimcover_2x='https://assets.ppy.sh/beatmaps/292301/covers/slimcover@2x.jpg?1650630372'), creator='Asphyxia', favourite_count=11412, id=292301, nsfw=False, offset=0, play_count=37108170, preview_url='//b.ppy.sh/preview/292301.mp3', source='', status=<RankStatus.RANKED: 1>, spotlight=False, title='Blue Zenith', title_unicode='Blue Zenith', user_id=1715720, video=False, hype=None, beatmaps=None, converts=None, current_nominations=None, current_user_attributes=None, description=None, discussions=None, events=None, genre=None, has_favourited=None, language=None, nominations=None, pack_tags=None, ratings=[0, 256, 109, 147, 321, 260, 252, 497, 1042, 2530, 18724], recent_favourites=None, related_users=None, track_id=5862, _user=None, availability=Availability(download_disabled=False, more_information=None), bpm=200.0, can_be_hyped=False, deleted_at=None, discussion_enabled=True, discussion_locked=False, is_scoreable=True, last_updated=datetime.datetime(2015, 8, 9, 19, 39, 24, tzinfo=datetime.timezone.utc), legacy_thread_url='https://osu.ppy.sh/community/forums/topics/309220', nominations_summary=Nominations(current=0, required=2), ranked=<RankStatus.RANKED: 1>, ranked_date=datetime.datetime(2015, 8, 16, 20, 0, 15, tzinfo=datetime.timezone.utc), storyboard=True, submitted_date=datetime.datetime(2015, 3, 9, 18, 9, 17, tzinfo=datetime.timezone.utc), tags='parousia ktgster rlc toybot aka frey collab collaboration 100sec record')\n",
      "checksum: fa5acf6debd3e963140f01837e8e6496\n",
      "failtimes: Failtimes(exit=[0, 0, 0, 27, 595, 864, 388460, 235715, 123375, 119920, 101362, 101437, 114839, 35994, 46628, 61685, 32008, 23063, 62365, 37860, 20492, 22920, 13920, 29458, 12263, 8046, 16170, 44364, 15599, 16400, 8224, 4583, 2383, 3754, 1368, 845, 789, 5095, 8093, 8394, 9995, 4400, 1025, 467, 2395, 3387, 2086, 3976, 2573, 5175, 3285, 2668, 2546, 2942, 5188, 3054, 7076, 2176, 2775, 5167, 2618, 3023, 11676, 3139, 9872, 6837, 6997, 1952, 2805, 9274, 1129, 1108, 5072, 2732, 3361, 1215, 3715, 3725, 2174, 2394, 3164, 2296, 5821, 2116, 3322, 709, 1962, 575, 506, 724, 8753, 1422, 1770, 1758, 3632, 1599, 4514, 10126, 2475, 5640], fail=[0, 0, 0, 296, 6, 48075, 461905, 449369, 113876, 209750, 114808, 233075, 39334, 23464, 21062, 97187, 8162, 18662, 106943, 25626, 4203, 16211, 8732, 51846, 38090, 9503, 44440, 4364, 67, 388, 1135, 998, 1923, 1123, 1637, 837, 2977, 72922, 62381, 79059, 10134, 4116, 4898, 691, 79777, 43254, 6853, 13815, 9283, 42673, 18266, 14295, 8870, 1237, 30867, 23375, 67542, 5824, 14825, 84084, 29203, 8247, 87049, 16830, 129369, 56578, 71620, 10766, 1796, 356, 364, 6028, 82469, 15377, 5666, 1937, 11051, 10993, 5266, 8352, 20989, 8655, 25421, 6090, 12936, 1635, 4351, 814, 708, 1065, 18392, 5552, 6042, 5079, 12705, 4235, 8907, 787, 3, 70])\n",
      "max_combo: 2320\n",
      "accuracy: 8.7\n",
      "ar: 9.4\n",
      "bpm: 200.0\n",
      "convert: False\n",
      "count_circles: 1599\n",
      "count_sliders: 219\n",
      "count_spinners: 2\n",
      "cs: 4.0\n",
      "deleted_at: None\n",
      "drain: 6.0\n",
      "hit_length: 229\n",
      "is_scoreable: True\n",
      "last_updated: 2015-08-09 19:39:24+00:00\n",
      "mode_int: 0\n",
      "passcount: 89897\n",
      "playcount: 5636609\n",
      "ranked: RankStatus.RANKED\n",
      "url: https://osu.ppy.sh/beatmaps/657917\n",
      "owner: None\n"
     ]
    }
   ],
   "source": [
    "# You would need to install ossapi in your Jupyter environment using:\n",
    "# !pip install ossapi\n",
    "from ossapi import Ossapi\n",
    "\n",
    "# Your credentials (note: it's unsafe to expose your credentials; ensure this is only for testing and not in production or public code)\n",
    "client_id = 28773\n",
    "client_secret = 'dUzfRmogu3EkymvHr9Hh1lalZRIMyJVmV00U6rSd'\n",
    "api = Ossapi(client_id, client_secret)\n",
    "\n",
    "# Simulate the POST request by directly setting the beatmap_id\n",
    "beatmap_id = '657917' \n",
    "\n",
    "# Fetch the beatmap info as you would in the view\n",
    "beatmap = api.beatmap(beatmap_id)\n",
    "beatmap_dict = vars(beatmap)\n",
    "\n",
    "for attribute, value in beatmap_dict.items():\n",
    "    print(f\"{attribute}: {value}\")"
   ]
  }
 ],
 "metadata": {
  "kernelspec": {
   "display_name": "osuvenv",
   "language": "python",
   "name": "python3"
  },
  "language_info": {
   "codemirror_mode": {
    "name": "ipython",
    "version": 3
   },
   "file_extension": ".py",
   "mimetype": "text/x-python",
   "name": "python",
   "nbconvert_exporter": "python",
   "pygments_lexer": "ipython3",
   "version": "3.12.0"
  }
 },
 "nbformat": 4,
 "nbformat_minor": 2
}
